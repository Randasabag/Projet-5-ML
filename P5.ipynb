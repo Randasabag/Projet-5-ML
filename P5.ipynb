{
  "cells": [
    {
      "cell_type": "markdown",
      "metadata": {
        "colab_type": "text",
        "id": "view-in-github"
      },
      "source": [
        "<a href=\"https://colab.research.google.com/github/Randasabag/Projet-5-ML/blob/main/P5.ipynb\" target=\"_parent\"><img src=\"https://colab.research.google.com/assets/colab-badge.svg\" alt=\"Open In Colab\"/></a>"
      ]
    },
    {
      "cell_type": "markdown",
      "metadata": {
        "id": "sjipMeFqBAhg"
      },
      "source": [
        "La table `Posts` dans la base de données de Stack Exchange contient les informations de tous les messages publiés sur la plateforme, incluant les questions, les réponses et les messages wiki. Voici une explication des champs courants dans cette table :\n",
        "\n",
        "1. **Id** :\n",
        "   - **Type** : Integer\n",
        "   - **Description** : Identifiant unique du post.\n",
        "\n",
        "2. **PostTypeId** :\n",
        "   - **Type** : Integer\n",
        "   - **Description** : Identifie le type de post. Les valeurs communes sont :\n",
        "     - 1 : Question\n",
        "     - 2 : Réponse\n",
        "\n",
        "3. **ParentId** :\n",
        "   - **Type** : Integer\n",
        "   - **Description** : Identifiant de la question parente si le post est une réponse. Null pour les questions.\n",
        "\n",
        "4. **AcceptedAnswerId** :\n",
        "   - **Type** : Integer\n",
        "   - **Description** : Identifiant de la réponse acceptée pour les questions. Null si aucune réponse n'est acceptée ou si le post est une réponse.\n",
        "\n",
        "5. **CreationDate** :\n",
        "   - **Type** : DateTime\n",
        "   - **Description** : Date et heure de la création du post.\n",
        "\n",
        "6. **Score** :\n",
        "   - **Type** : Integer\n",
        "   - **Description** : Score du post, calculé comme le nombre de votes positifs moins le nombre de votes négatifs.\n",
        "\n",
        "7. **ViewCount** :\n",
        "   - **Type** : Integer\n",
        "   - **Description** : Nombre de fois que la question a été vue. Applicable uniquement aux questions.\n",
        "\n",
        "8. **Body** :\n",
        "   - **Type** : Text\n",
        "   - **Description** : Contenu du post en HTML.\n",
        "\n",
        "9. **OwnerUserId** :\n",
        "   - **Type** : Integer\n",
        "   - **Description** : Identifiant de l'utilisateur qui a créé le post. Null pour les posts anonymes.\n",
        "\n",
        "10. **OwnerDisplayName** :\n",
        "    - **Type** : Text\n",
        "    - **Description** : Nom d'affichage de l'utilisateur pour les posts anonymes.\n",
        "\n",
        "11. **LastEditorUserId** :\n",
        "    - **Type** : Integer\n",
        "    - **Description** : Identifiant de l'utilisateur qui a effectué la dernière modification du post.\n",
        "\n",
        "12. **LastEditDate** :\n",
        "    - **Type** : DateTime\n",
        "    - **Description** : Date et heure de la dernière modification du post.\n",
        "\n",
        "13. **LastActivityDate** :\n",
        "    - **Type** : DateTime\n",
        "    - **Description** : Date et heure de la dernière activité sur le post (édition, réponse, commentaire, etc.).\n",
        "\n",
        "14. **Title** :\n",
        "    - **Type** : Text\n",
        "    - **Description** : Titre du post. Applicable uniquement aux questions.\n",
        "\n",
        "15. **Tags** :\n",
        "    - **Type** : Text\n",
        "    - **Description** : Liste des tags associés au post. Les tags sont encadrés par des chevrons (par exemple, `<python><pandas>`).\n",
        "\n",
        "16. **AnswerCount** :\n",
        "    - **Type** : Integer\n",
        "    - **Description** : Nombre de réponses associées à une question. Applicable uniquement aux questions.\n",
        "\n",
        "17. **CommentCount** :\n",
        "    - **Type** : Integer\n",
        "    - **Description** : Nombre de commentaires associés au post.\n",
        "\n",
        "18. **FavoriteCount** :\n",
        "    - **Type** : Integer\n",
        "    - **Description** : Nombre de fois que la question a été mise en favori par des utilisateurs. Applicable uniquement aux questions.\n",
        "\n",
        "19. **ClosedDate** :\n",
        "    - **Type** : DateTime\n",
        "    - **Description** : Date et heure à laquelle la question a été fermée. Null si la question n'est pas fermée.\n",
        "\n",
        "20. **CommunityOwnedDate** :\n",
        "    - **Type** : DateTime\n",
        "    - **Description** : Date et heure à laquelle le post est devenu « community-owned », ce qui signifie qu'il appartient à la communauté et non à un utilisateur spécifique.\n",
        "\n",
        "Ces champs fournissent une riche source d'information sur chaque post, permettant une analyse détaillée des contributions et des interactions des utilisateurs sur la plateforme Stack Exchange."
      ]
    },
    {
      "cell_type": "code",
      "execution_count": null,
      "metadata": {
        "colab": {
          "base_uri": "https://localhost:8080/"
        },
        "id": "OAA5SpwORQx6",
        "outputId": "7af2b2d1-78e2-480b-c1d7-7524992e278b"
      },
      "outputs": [],
      "source": [
        "import pandas as pd\n",
        "import numpy as np\n",
        "import matplotlib.pyplot as plt\n",
        "import seaborn as sns\n",
        "import scipy.stats as st\n",
        "from scipy.stats import shapiro\n",
        "import statsmodels.api as sm\n",
        "import statsmodels.formula.api as smf\n",
        "from datetime import datetime,date,timedelta\n",
        "import datetime as dt\n",
        "from google.colab import drive\n",
        "drive.mount('/content/drive')"
      ]
    },
    {
      "cell_type": "code",
      "execution_count": null,
      "metadata": {
        "colab": {
          "base_uri": "https://localhost:8080/",
          "height": 1000
        },
        "id": "O3cpYK0HRdt_",
        "outputId": "927d31a2-b7e4-43fe-df49-d77786610c0d"
      },
      "outputs": [],
      "source": [
        "df=pd.read_csv('/content/drive/MyDrive/MACHINE_LEARNING/Requete principaleP5.csv', sep=',')\n",
        "df.head()"
      ]
    },
    {
      "cell_type": "code",
      "execution_count": null,
      "metadata": {
        "colab": {
          "base_uri": "https://localhost:8080/"
        },
        "id": "S2tTFttkSCfx",
        "outputId": "21735c39-01b2-4d5c-e23d-3f7bfe8287a8"
      },
      "outputs": [],
      "source": [
        "print(df.shape)"
      ]
    },
    {
      "cell_type": "code",
      "execution_count": null,
      "metadata": {
        "colab": {
          "base_uri": "https://localhost:8080/"
        },
        "id": "cryxHRxWbU7Q",
        "outputId": "61683fd6-73fa-496e-c44f-e5d007a142cd"
      },
      "outputs": [],
      "source": [
        "df.isnull().sum()"
      ]
    },
    {
      "cell_type": "code",
      "execution_count": null,
      "metadata": {
        "colab": {
          "base_uri": "https://localhost:8080/"
        },
        "id": "qwW_hX7Obeea",
        "outputId": "02725de9-fd0f-484e-d8b7-12e7a6dc1c43"
      },
      "outputs": [],
      "source": [
        "df.duplicated().sum()"
      ]
    },
    {
      "cell_type": "code",
      "execution_count": null,
      "metadata": {
        "colab": {
          "base_uri": "https://localhost:8080/"
        },
        "id": "WlmOFckmblby",
        "outputId": "9d9ce496-d5db-4603-b4bb-b68851fd06d1"
      },
      "outputs": [],
      "source": [
        "df.dtypes"
      ]
    },
    {
      "cell_type": "code",
      "execution_count": null,
      "metadata": {
        "colab": {
          "base_uri": "https://localhost:8080/"
        },
        "id": "3jlBPqlFb8E7",
        "outputId": "f4ae9f39-8710-4e70-815e-2567bdcc15f1"
      },
      "outputs": [],
      "source": [
        "df['FavoriteCount'].value_counts()"
      ]
    },
    {
      "cell_type": "code",
      "execution_count": null,
      "metadata": {
        "colab": {
          "base_uri": "https://localhost:8080/"
        },
        "id": "3F4IP1M-zav-",
        "outputId": "394e697b-8941-449f-ec8f-e84c968be7db"
      },
      "outputs": [],
      "source": [
        "df['Score'].value_counts()"
      ]
    },
    {
      "cell_type": "code",
      "execution_count": null,
      "metadata": {
        "colab": {
          "base_uri": "https://localhost:8080/"
        },
        "id": "0bnjv7NS2GMi",
        "outputId": "12019802-ec65-439b-ee25-df9099885e70"
      },
      "outputs": [],
      "source": [
        "df['ViewCount'].value_counts()"
      ]
    },
    {
      "cell_type": "code",
      "execution_count": null,
      "metadata": {
        "colab": {
          "base_uri": "https://localhost:8080/",
          "height": 429
        },
        "id": "40TFHMTc2Ojr",
        "outputId": "85c19432-542e-4392-c33b-68aca5e6d0cb"
      },
      "outputs": [],
      "source": [
        "#Résumé stat\n",
        "df.describe(include=\"all\").round(2)"
      ]
    },
    {
      "cell_type": "code",
      "execution_count": null,
      "metadata": {
        "colab": {
          "base_uri": "https://localhost:8080/"
        },
        "id": "VabCe5u2EESR",
        "outputId": "6c17ce3f-c129-4a24-eff2-11c0e9e34ae3"
      },
      "outputs": [],
      "source": [
        "df.columns"
      ]
    },
    {
      "cell_type": "code",
      "execution_count": null,
      "metadata": {
        "id": "wTaNuU6nEBSH"
      },
      "outputs": [],
      "source": [
        "var_num = ['Score', 'ViewCount', 'FavoriteCount', 'AnswerCount']"
      ]
    },
    {
      "cell_type": "code",
      "execution_count": null,
      "metadata": {
        "colab": {
          "base_uri": "https://localhost:8080/",
          "height": 167
        },
        "id": "z6hGBWm29-LJ",
        "outputId": "e3d387f3-5c61-45c4-e468-c9967822686b"
      },
      "outputs": [],
      "source": [
        "#Visualisation des outliers\n",
        "plt.figure(figsize=(20, 10))\n",
        "sns.set(style=\"white\", palette=\"husl\")\n",
        "\n",
        "#Création des boxplots pour chaque variable\n",
        "for i, var in enumerate(var_num, 1):\n",
        "  plt.subplot(6, 6, i)\n",
        "  sns.boxplot(data=df, x=var)\n",
        "\n",
        "#Espacement entre les graphiques\n",
        "plt.tight_layout()\n",
        "\n",
        "plt.savefig(\"boxplots_outliers.png\")"
      ]
    },
    {
      "cell_type": "code",
      "execution_count": null,
      "metadata": {
        "colab": {
          "base_uri": "https://localhost:8080/",
          "height": 167
        },
        "id": "o6xZmetdEM6J",
        "outputId": "8fcacc8d-7e9f-4772-e932-8a4a965abb41"
      },
      "outputs": [],
      "source": [
        "#Visualisation des histogrammes de chaque variable\n",
        "plt.figure(figsize=(20, 10))\n",
        "sns.set(style=\"white\", palette=\"husl\")\n",
        "for i, var in enumerate(var_num, 1):\n",
        "    plt.subplot(6, 6, i)\n",
        "    sns.histplot(data=df, x=var)\n",
        "\n",
        "#Espacement entre les graphiques\n",
        "plt.tight_layout()\n",
        "\n",
        "plt.savefig(\"hist.png\")"
      ]
    },
    {
      "cell_type": "code",
      "execution_count": null,
      "metadata": {
        "colab": {
          "base_uri": "https://localhost:8080/",
          "height": 396
        },
        "id": "k0CYn6yQE0bW",
        "outputId": "8d11d07c-28dc-45ec-fc4a-ea97fef188a2"
      },
      "outputs": [],
      "source": [
        "# Visualisation de la variable cible\n",
        "fig = plt.figure(figsize=(8,4))\n",
        "ax = sns.histplot(data=df['Score'])\n",
        "ax.set_xlabel(\"Score\")\n",
        "plt.savefig(\"score.png\")\n",
        "plt.show()"
      ]
    },
    {
      "cell_type": "code",
      "execution_count": null,
      "metadata": {
        "colab": {
          "base_uri": "https://localhost:8080/",
          "height": 396
        },
        "id": "aeunV4KiF3-o",
        "outputId": "ff3df9e4-fb41-4390-9f21-3fb7cf0064ea"
      },
      "outputs": [],
      "source": [
        "# Transformation de la variable cible en log pour suivre une loi normale et changer son échelle\n",
        "ylog_train = np.log1p(df['Score'])\n",
        "fig = plt.figure(figsize=(8,4))\n",
        "ax = sns.histplot(data=ylog_train)\n",
        "ax.set_xlabel(\"Score\")\n",
        "plt.savefig(\"scorelog.png\")\n",
        "plt.show()"
      ]
    },
    {
      "cell_type": "code",
      "execution_count": null,
      "metadata": {
        "colab": {
          "base_uri": "https://localhost:8080/",
          "height": 396
        },
        "id": "asvfrSnMGJxP",
        "outputId": "322df351-67e1-403d-abdd-c8cb47114f73"
      },
      "outputs": [],
      "source": [
        "# Visualisation de la variable cible\n",
        "fig = plt.figure(figsize=(8,4))\n",
        "ax = sns.histplot(data='ViewCount')\n",
        "ax.set_xlabel(\"ViewCount\")\n",
        "plt.savefig(\"viewcount.png\")\n",
        "plt.show()"
      ]
    },
    {
      "cell_type": "code",
      "execution_count": null,
      "metadata": {
        "id": "M9N5sZX1EigU"
      },
      "outputs": [],
      "source": [
        "sns.pairplot(df[var_num].dropna(), diag_kind=\"kde\", height=1.5, x_vars=var_num, y_vars=var_num, corner=True, kind='reg')\n",
        "plt.tight_layout()\n",
        "plt.savefig(\"pairplot.png\")"
      ]
    },
    {
      "cell_type": "code",
      "execution_count": null,
      "metadata": {
        "id": "CN3vYTS6FMwc"
      },
      "outputs": [],
      "source": [
        "plt.figure(figsize=(40, 15))\n",
        "df_finum = df_sans_outliers[vnum].dropna()\n",
        "matrix = df_finum.corr()\n",
        "\n",
        "# Créez un masque pour masquer la moitié inférieure de la matrice\n",
        "mask = np.triu(np.ones_like(matrix, dtype=bool))\n",
        "\n",
        "sns.heatmap(data=matrix, annot=True, cmap='PiYG', mask=mask)\n",
        "plt.xticks(rotation=10)\n",
        "plt.tight_layout()\n",
        "plt.savefig(\"matrice_corr.png\")\n",
        "plt.show()"
      ]
    }
  ],
  "metadata": {
    "colab": {
      "authorship_tag": "ABX9TyNiQ9ycoUciQnRLSkPuRBhN",
      "include_colab_link": true,
      "provenance": []
    },
    "kernelspec": {
      "display_name": "Python 3",
      "name": "python3"
    },
    "language_info": {
      "name": "python"
    }
  },
  "nbformat": 4,
  "nbformat_minor": 0
}
